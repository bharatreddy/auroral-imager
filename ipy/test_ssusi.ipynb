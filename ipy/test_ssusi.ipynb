{
 "cells": [
  {
   "cell_type": "code",
   "execution_count": 48,
   "metadata": {},
   "outputs": [
    {
     "name": "stdout",
     "output_type": "stream",
     "text": [
      "Populating the interactive namespace from numpy and matplotlib\n"
     ]
    },
    {
     "name": "stderr",
     "output_type": "stream",
     "text": [
      "/usr/local/lib/python2.7/dist-packages/IPython/core/magics/pylab.py:161: UserWarning: pylab import has clobbered these variables: ['plot', 'pylab', 'figsize']\n",
      "`%matplotlib` prevents importing * from pylab and numpy\n",
      "  \"\\n`%matplotlib` prevents importing * from pylab and numpy\"\n"
     ]
    }
   ],
   "source": [
    "from scipy.io import netcdf\n",
    "import subprocess\n",
    "from davitpy.pydarn.radar import *\n",
    "from davitpy.pydarn.plotting import *\n",
    "from davitpy.utils import *\n",
    "%pylab inline"
   ]
  },
  {
   "cell_type": "code",
   "execution_count": 31,
   "metadata": {},
   "outputs": [],
   "source": [
    "fName = \"../data/sdr/f18/20141216/PS.APL_V0116S024CB0005_SC.U_DI.A_GP.F18-SSUSI_PA.APL-SDR-DISK_DD.20141216_SN.26619-02_DF.NC\""
   ]
  },
  {
   "cell_type": "code",
   "execution_count": 33,
   "metadata": {},
   "outputs": [],
   "source": [
    "fh = netcdf.netcdf_file(fName, mmap=False)\n",
    "\n",
    "lats = fh.variables['PIERCEPOINT_DAY_LATITUDE'].data\n",
    "lons = fh.variables['PIERCEPOINT_DAY_LONGITUDE'].data\n",
    "alts = fh.variables['PIERCEPOINT_DAY_ALTITUDE'].data\n",
    "\n",
    "sc_lat = fh.variables['DMSP_LATITUDE'].data.ravel()\n",
    "sc_lon = fh.variables['DMSP_LONGITUDE'].data.ravel()\n",
    "sc_alt = fh.variables['DMSP_ALTITUDE'].data.ravel()\n"
   ]
  },
  {
   "cell_type": "code",
   "execution_count": 45,
   "metadata": {},
   "outputs": [
    {
     "name": "stdout",
     "output_type": "stream",
     "text": [
      "TIME_DAY\n",
      "TIME_EPOCH_DAY\n",
      "YEAR_DAY\n",
      "DOY_DAY\n",
      "ORBIT_DAY\n",
      "LATITUDE_DAY\n",
      "LONGITUDE_DAY\n",
      "ALTITUDE_DAY\n",
      "TIME_DAY_AURORAL\n",
      "TIME_EPOCH_DAY_AURORAL\n",
      "YEAR_DAY_AURORAL\n",
      "DOY_DAY_AURORAL\n",
      "ORBIT_DAY_AURORAL\n",
      "LATITUDE_DAY_AURORAL\n",
      "LONGITUDE_DAY_AURORAL\n",
      "ALTITUDE_DAY_AURORAL\n",
      "TIME_NIGHT\n",
      "TIME_EPOCH_NIGHT\n",
      "YEAR_NIGHT\n",
      "DOY_NIGHT\n",
      "ORBIT_NIGHT\n",
      "LATITUDE_NIGHT\n",
      "LONGITUDE_NIGHT\n",
      "ALTITUDE_NIGHT\n",
      "PIERCEPOINT_NIGHT_LATITUDE\n",
      "PIERCEPOINT_NIGHT_LONGITUDE\n",
      "PIERCEPOINT_NIGHT_ALTITUDE\n",
      "PIERCEPOINT_NIGHT_SZA\n",
      "PIERCEPOINT_DAY_LATITUDE\n",
      "PIERCEPOINT_DAY_LONGITUDE\n",
      "PIERCEPOINT_DAY_ALTITUDE\n",
      "PIERCEPOINT_DAY_SZA\n",
      "PIERCEPOINT_DAY_LATITUDE_AURORAL\n",
      "PIERCEPOINT_DAY_LONGITUDE_AURORAL\n",
      "PIERCEPOINT_DAY_ALTITUDE_AURORAL\n",
      "PIERCEPOINT_DAY_SZA_AURORAL\n",
      "IN_SAA_NIGHT\n",
      "IN_SAA_DAY\n",
      "IN_SAA_DAY_AURORAL\n",
      "ACROSSPIXELSIZE_DAY\n",
      "ALONGPIXELSIZE_DAY\n",
      "ACROSSPIXELSIZE_DAY_AURORAL\n",
      "ALONGPIXELSIZE_DAY_AURORAL\n",
      "ACROSSPIXELSIZE_NIGHT\n",
      "ALONGPIXELSIZE_NIGHT\n",
      "EFFECTIVELOOKANGLE_NIGHT\n",
      "EFFECTIVELOOKANGLE_DAY\n",
      "EFFECTIVELOOKANGLE_DAY_AURORAL\n",
      "DARK_COUNT_CORRECTION\n",
      "SCATTER_LIGHT_1216_CORRECTION\n",
      "SCATTER_LIGHT_1304_CORRECTION\n",
      "OVERLAP_1304_1356_CORRECTION\n",
      "LONGWAVE_SCATTER_CORRECTION\n",
      "RED_LEAK_CORRECTION\n",
      "DISKCOUNTSDATA_DAY\n",
      "DISKDECOMP_UNCERTAINTY_DAY\n",
      "DISKCOUNTSDATA_DAY_AURORAL\n",
      "DISKDECOMP_UNCERTAINTY_DAY_AURORAL\n",
      "DISKCOUNTSDATA_NIGHT\n",
      "DISKDECOMP_UNCERTAINTY_NIGHT\n",
      "SAA_COUNT_DAY\n",
      "SAA_COUNT_DAY_AURORAL\n",
      "SAA_COUNT_NIGHT\n",
      "EXPOSURE_DAY\n",
      "EXPOSURE_DAY_AURORAL\n",
      "EXPOSURE_NIGHT\n",
      "DISK_INTENSITY_DAY\n",
      "DISK_INTENSITY_DAY_AURORAL\n",
      "DISK_INTENSITY_NIGHT\n",
      "DISK_RECTIFIED_INTENSITY_DAY\n",
      "DISK_RECTIFIED_INTENSITY_DAY_AURORAL\n",
      "DISK_RECTIFIED_INTENSITY_NIGHT\n",
      "DISK_RADIANCE_UNCERTAINTY_DAY\n",
      "DISK_RADIANCE_UNCERTAINTY_DAY_AURORAL\n",
      "DISK_CALIBRATION_UNCERTAINTY_DAY\n",
      "DISK_CALIBRATION_UNCERTAINTY_DAY_AURORAL\n",
      "DISK_RADIANCE_UNCERTAINTY_NIGHT\n",
      "DISK_CALIBRATION_UNCERTAINTY_NIGHT\n",
      "DISK_RECTIFIED_RADIANCE_UNCERTAINTY_DAY\n",
      "DISK_RECTIFIED_RADIANCE_UNCERTAINTY_DAY_AURORAL\n",
      "DISK_RECTIFIED_RADIANCE_UNCERTAINTY_NIGHT\n",
      "DQI_DAY\n",
      "DQI_DAY_AURORAL\n",
      "DQI_NIGHT\n",
      "PHOTOMETER_DMSP_TIME_OFFSET\n",
      "TIME_PHOTOMETER\n",
      "PHOTOMETER630_RADIANCE\n",
      "PHOTOMETER630_VARIANCE\n",
      "COSCROSSINGANGLE\n",
      "COSLUNARAZIMUTH\n",
      "COSSOLARAZIMUTH\n",
      "EPHEMCLOCKPT1\n",
      "EPHEMCLOCKPT2\n",
      "HEIGHTEARTHRADIUSRATIO\n",
      "LUNARELEVATION\n",
      "LUNARPHASEANGLE\n",
      "SOLARELEVATION\n",
      "SUBPOINTLAT\n",
      "SUBPOINTLONG\n",
      "JULDAY\n",
      "SATH\n",
      "DMSP_LATITUDE\n",
      "DMSP_LONGITUDE\n",
      "DMSP_RADIAL_DISTANCE\n",
      "DMSP_ALTITUDE\n",
      "DMSP_COORDS_ECI\n",
      "DMSP_NADIR_ECI\n",
      "DMSP_SOLAR_ECI\n",
      "DMSP_SOLAR_LAT\n",
      "DMSP_SOLAR_LON\n",
      "DMSP_COORDS_TIME\n",
      "PHOTOMETERSTATUS\n",
      "ILLUMSENSOR1\n",
      "ILLUMSENSOR2\n",
      "LAT_PHOTOMETER\n",
      "LON_PHOTOMETER\n",
      "ALT_PHOTOMETER\n",
      "PULSEHEIGHTDATA\n",
      "PHOTOMETER427COUNT\n",
      "PHOTOMETER629COUNT\n",
      "PHOTOMETER630COUNT\n",
      "PHOTOMETER427_RADIANCE\n",
      "PHOTOMETER629_RADIANCE\n",
      "PHOTOMETER427_VARIANCE\n",
      "PHOTOMETER629_VARIANCE\n"
     ]
    }
   ],
   "source": [
    "for va in fh.variables.keys():\n",
    "    print va"
   ]
  },
  {
   "cell_type": "code",
   "execution_count": 42,
   "metadata": {},
   "outputs": [],
   "source": [
    "data1 = fh.variables['DISK_INTENSITY_DAY'].data[:, :, 2]\n",
    "data2 = fh.variables['DISK_INTENSITY_DAY'].data[:, :, 3]\n",
    "data3 = fh.variables['DISK_INTENSITY_DAY'].data[:, :, 4]"
   ]
  },
  {
   "cell_type": "code",
   "execution_count": 47,
   "metadata": {},
   "outputs": [
    {
     "name": "stdout",
     "output_type": "stream",
     "text": [
      "(42, 623)\n",
      "(42, 623)\n"
     ]
    }
   ],
   "source": [
    "print data1.shape\n",
    "print lats.shape"
   ]
  },
  {
   "cell_type": "code",
   "execution_count": null,
   "metadata": {
    "collapsed": true
   },
   "outputs": [],
   "source": [
    "fig = figure(figsize=(10,10))\n",
    "m = plotUtils.mapObj(boundinglat=30., coords='geo')\n",
    "\n",
    "fig.savefig(\"../figs/ssusi-test.pdf\",bbox_inches='tight')"
   ]
  }
 ],
 "metadata": {
  "kernelspec": {
   "display_name": "Python 2",
   "language": "python",
   "name": "python2"
  },
  "language_info": {
   "codemirror_mode": {
    "name": "ipython",
    "version": 2
   },
   "file_extension": ".py",
   "mimetype": "text/x-python",
   "name": "python",
   "nbconvert_exporter": "python",
   "pygments_lexer": "ipython2",
   "version": "2.7.6"
  }
 },
 "nbformat": 4,
 "nbformat_minor": 2
}
