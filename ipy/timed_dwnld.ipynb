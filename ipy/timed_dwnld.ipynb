{
 "cells": [
  {
   "cell_type": "code",
   "execution_count": 1,
   "metadata": {},
   "outputs": [],
   "source": [
    "import pandas\n",
    "import datetime\n",
    "import requests\n",
    "import bs4\n",
    "import os\n",
    "import zlib\n",
    "import mechanize\n",
    "from selenium import webdriver\n",
    "from selenium.webdriver.common.keys import Keys"
   ]
  },
  {
   "cell_type": "code",
   "execution_count": 2,
   "metadata": {
    "collapsed": true
   },
   "outputs": [],
   "source": [
    "baseUrl = \"http://guvitimed.jhuapl.edu/\""
   ]
  },
  {
   "cell_type": "code",
   "execution_count": 3,
   "metadata": {
    "collapsed": true
   },
   "outputs": [],
   "source": [
    "inpDate = datetime.datetime( 2005, 8, 6 )\n",
    "inpDoY = inpDate.timetuple().tm_yday\n",
    "strDoY = str(inpDoY)\n",
    "if inpDoY < 10:\n",
    "    strDoY = \"00\" + str(inpDoY)\n",
    "if ( inpDoY > 10) & (inpDoY < 100):\n",
    "    strDoY = \"0\" + str(inpDoY)\n"
   ]
  },
  {
   "cell_type": "code",
   "execution_count": 4,
   "metadata": {},
   "outputs": [],
   "source": [
    "testUrl = baseUrl + \"data_fetch_l1c_imaging_v013?y=\"+ str(inpDate.year) + \"&d=\"+strDoY\n",
    "driver = webdriver.Chrome()\n",
    "driver.get(testUrl)"
   ]
  },
  {
   "cell_type": "code",
   "execution_count": 5,
   "metadata": {},
   "outputs": [
    {
     "name": "stdout",
     "output_type": "stream",
     "text": [
      "<selenium.webdriver.remote.webelement.WebElement (session=\"bd7aeb1d73e6062781d05d6b481020c1\", element=\"0.2688230728538685-1\")>\n"
     ]
    }
   ],
   "source": [
    "files = driver.find_element_by_id(\"output\")\n",
    "print files"
   ]
  },
  {
   "cell_type": "code",
   "execution_count": 6,
   "metadata": {},
   "outputs": [
    {
     "name": "stdout",
     "output_type": "stream",
     "text": [
      "hi\n",
      "http://guvitimed.jhuapl.edu/data/dataV013/level1c/imaging/2005/218/TIMED_GUVI_L1C-2-disk-IMG_2005218000844-2005218014550_REV19821_Av13-01r001.nc\n",
      "hi\n",
      "http://guvitimed.jhuapl.edu/data/dataV013/level1c/imaging/2005/218/TIMED_GUVI_L1C-2-disk-IMG_2005218014550-2005218032256_REV19822_Av13-01r001.nc\n",
      "hi\n",
      "http://guvitimed.jhuapl.edu/data/dataV013/level1c/imaging/2005/218/TIMED_GUVI_L1C-2-disk-IMG_2005218032256-2005218050002_REV19823_Av13-01r001.nc\n",
      "hi\n",
      "http://guvitimed.jhuapl.edu/data/dataV013/level1c/imaging/2005/218/TIMED_GUVI_L1C-2-disk-IMG_2005218050002-2005218063708_REV19824_Av13-01r001.nc\n",
      "hi\n",
      "http://guvitimed.jhuapl.edu/data/dataV013/level1c/imaging/2005/218/TIMED_GUVI_L1C-2-disk-IMG_2005218063708-2005218081413_REV19825_Av13-01r001.nc\n",
      "hi\n",
      "http://guvitimed.jhuapl.edu/data/dataV013/level1c/imaging/2005/218/TIMED_GUVI_L1C-2-disk-IMG_2005218081413-2005218095119_REV19826_Av13-01r001.nc\n",
      "hi\n",
      "http://guvitimed.jhuapl.edu/data/dataV013/level1c/imaging/2005/218/TIMED_GUVI_L1C-2-disk-IMG_2005218095119-2005218112825_REV19827_Av13-01r001.nc\n",
      "hi\n",
      "http://guvitimed.jhuapl.edu/data/dataV013/level1c/imaging/2005/218/TIMED_GUVI_L1C-2-disk-IMG_2005218112825-2005218130531_REV19828_Av13-01r001.nc\n",
      "hi\n",
      "http://guvitimed.jhuapl.edu/data/dataV013/level1c/imaging/2005/218/TIMED_GUVI_L1C-2-disk-IMG_2005218130531-2005218144237_REV19829_Av13-01r001.nc\n",
      "hi\n",
      "http://guvitimed.jhuapl.edu/data/dataV013/level1c/imaging/2005/218/TIMED_GUVI_L1C-2-disk-IMG_2005218144237-2005218161943_REV19830_Av13-01r001.nc\n",
      "hi\n",
      "http://guvitimed.jhuapl.edu/data/dataV013/level1c/imaging/2005/218/TIMED_GUVI_L1C-2-disk-IMG_2005218161943-2005218175649_REV19831_Av13-01r001.nc\n",
      "hi\n",
      "http://guvitimed.jhuapl.edu/data/dataV013/level1c/imaging/2005/218/TIMED_GUVI_L1C-2-disk-IMG_2005218175649-2005218193355_REV19832_Av13-01r001.nc\n",
      "hi\n",
      "http://guvitimed.jhuapl.edu/data/dataV013/level1c/imaging/2005/218/TIMED_GUVI_L1C-2-disk-IMG_2005218193355-2005218211100_REV19833_Av13-01r001.nc\n",
      "hi\n",
      "http://guvitimed.jhuapl.edu/data/dataV013/level1c/imaging/2005/218/TIMED_GUVI_L1C-2-disk-IMG_2005218211100-2005218224806_REV19834_Av13-01r001.nc\n",
      "hi\n",
      "http://guvitimed.jhuapl.edu/data/dataV013/level1c/imaging/2005/218/TIMED_GUVI_L1C-2-disk-IMG_2005218224806-2005219002512_REV19835_Av13-01r001.nc\n",
      "hi\n",
      "http://guvitimed.jhuapl.edu/data/dataV013/level1c/imaging/2005/218/TIMED_GUVI_L1C-disk-IMG_2005218000844-2005218014550_REV19821_Av13-01r001.nc\n",
      "hi\n",
      "http://guvitimed.jhuapl.edu/data/dataV013/level1c/imaging/2005/218/TIMED_GUVI_L1C-disk-IMG_2005218014550-2005218032256_REV19822_Av13-01r001.nc\n",
      "hi\n",
      "http://guvitimed.jhuapl.edu/data/dataV013/level1c/imaging/2005/218/TIMED_GUVI_L1C-disk-IMG_2005218032256-2005218050002_REV19823_Av13-01r001.nc\n",
      "hi\n",
      "http://guvitimed.jhuapl.edu/data/dataV013/level1c/imaging/2005/218/TIMED_GUVI_L1C-disk-IMG_2005218050002-2005218063708_REV19824_Av13-01r001.nc\n",
      "hi\n",
      "http://guvitimed.jhuapl.edu/data/dataV013/level1c/imaging/2005/218/TIMED_GUVI_L1C-disk-IMG_2005218063708-2005218081413_REV19825_Av13-01r001.nc\n",
      "hi\n",
      "http://guvitimed.jhuapl.edu/data/dataV013/level1c/imaging/2005/218/TIMED_GUVI_L1C-disk-IMG_2005218081413-2005218095119_REV19826_Av13-01r001.nc\n",
      "hi\n",
      "http://guvitimed.jhuapl.edu/data/dataV013/level1c/imaging/2005/218/TIMED_GUVI_L1C-disk-IMG_2005218095119-2005218112825_REV19827_Av13-01r001.nc\n",
      "hi\n",
      "http://guvitimed.jhuapl.edu/data/dataV013/level1c/imaging/2005/218/TIMED_GUVI_L1C-disk-IMG_2005218112825-2005218130531_REV19828_Av13-01r001.nc\n",
      "hi\n",
      "http://guvitimed.jhuapl.edu/data/dataV013/level1c/imaging/2005/218/TIMED_GUVI_L1C-disk-IMG_2005218130531-2005218144237_REV19829_Av13-01r001.nc\n",
      "hi\n",
      "http://guvitimed.jhuapl.edu/data/dataV013/level1c/imaging/2005/218/TIMED_GUVI_L1C-disk-IMG_2005218144237-2005218161943_REV19830_Av13-01r001.nc\n",
      "hi\n",
      "http://guvitimed.jhuapl.edu/data/dataV013/level1c/imaging/2005/218/TIMED_GUVI_L1C-disk-IMG_2005218161943-2005218175649_REV19831_Av13-01r001.nc\n",
      "hi\n",
      "http://guvitimed.jhuapl.edu/data/dataV013/level1c/imaging/2005/218/TIMED_GUVI_L1C-disk-IMG_2005218175649-2005218193355_REV19832_Av13-01r001.nc\n",
      "hi\n",
      "http://guvitimed.jhuapl.edu/data/dataV013/level1c/imaging/2005/218/TIMED_GUVI_L1C-disk-IMG_2005218193355-2005218211100_REV19833_Av13-01r001.nc\n",
      "hi\n",
      "http://guvitimed.jhuapl.edu/data/dataV013/level1c/imaging/2005/218/TIMED_GUVI_L1C-disk-IMG_2005218211100-2005218224806_REV19834_Av13-01r001.nc\n",
      "hi\n",
      "http://guvitimed.jhuapl.edu/data/dataV013/level1c/imaging/2005/218/TIMED_GUVI_L1C-disk-IMG_2005218224806-2005219002512_REV19835_Av13-01r001.nc\n",
      "hi\n",
      "http://guvitimed.jhuapl.edu/data/dataV013/level1c/imaging/2005/218/TIMED_GUVI_L1C-limb-IMG_2005218000844-2005218014550_REV19821_Av13-01r001.nc\n",
      "hi\n",
      "http://guvitimed.jhuapl.edu/data/dataV013/level1c/imaging/2005/218/TIMED_GUVI_L1C-limb-IMG_2005218014550-2005218032256_REV19822_Av13-01r001.nc\n",
      "hi\n",
      "http://guvitimed.jhuapl.edu/data/dataV013/level1c/imaging/2005/218/TIMED_GUVI_L1C-limb-IMG_2005218032256-2005218050002_REV19823_Av13-01r001.nc\n",
      "hi\n",
      "http://guvitimed.jhuapl.edu/data/dataV013/level1c/imaging/2005/218/TIMED_GUVI_L1C-limb-IMG_2005218050002-2005218063708_REV19824_Av13-01r001.nc\n",
      "hi\n",
      "http://guvitimed.jhuapl.edu/data/dataV013/level1c/imaging/2005/218/TIMED_GUVI_L1C-limb-IMG_2005218063708-2005218081413_REV19825_Av13-01r001.nc\n",
      "hi\n",
      "http://guvitimed.jhuapl.edu/data/dataV013/level1c/imaging/2005/218/TIMED_GUVI_L1C-limb-IMG_2005218081413-2005218095119_REV19826_Av13-01r001.nc\n",
      "hi\n",
      "http://guvitimed.jhuapl.edu/data/dataV013/level1c/imaging/2005/218/TIMED_GUVI_L1C-limb-IMG_2005218095119-2005218112825_REV19827_Av13-01r001.nc\n",
      "hi\n",
      "http://guvitimed.jhuapl.edu/data/dataV013/level1c/imaging/2005/218/TIMED_GUVI_L1C-limb-IMG_2005218112825-2005218130531_REV19828_Av13-01r001.nc\n",
      "hi\n",
      "http://guvitimed.jhuapl.edu/data/dataV013/level1c/imaging/2005/218/TIMED_GUVI_L1C-limb-IMG_2005218130531-2005218144237_REV19829_Av13-01r001.nc\n",
      "hi\n",
      "http://guvitimed.jhuapl.edu/data/dataV013/level1c/imaging/2005/218/TIMED_GUVI_L1C-limb-IMG_2005218144237-2005218161943_REV19830_Av13-01r001.nc\n",
      "hi\n",
      "http://guvitimed.jhuapl.edu/data/dataV013/level1c/imaging/2005/218/TIMED_GUVI_L1C-limb-IMG_2005218161943-2005218175649_REV19831_Av13-01r001.nc\n",
      "hi\n",
      "http://guvitimed.jhuapl.edu/data/dataV013/level1c/imaging/2005/218/TIMED_GUVI_L1C-limb-IMG_2005218175649-2005218193355_REV19832_Av13-01r001.nc\n",
      "hi\n",
      "http://guvitimed.jhuapl.edu/data/dataV013/level1c/imaging/2005/218/TIMED_GUVI_L1C-limb-IMG_2005218193355-2005218211100_REV19833_Av13-01r001.nc\n",
      "hi\n",
      "http://guvitimed.jhuapl.edu/data/dataV013/level1c/imaging/2005/218/TIMED_GUVI_L1C-limb-IMG_2005218211100-2005218224806_REV19834_Av13-01r001.nc\n",
      "hi\n",
      "http://guvitimed.jhuapl.edu/data/dataV013/level1c/imaging/2005/218/TIMED_GUVI_L1C-limb-IMG_2005218224806-2005219002512_REV19835_Av13-01r001.nc\n"
     ]
    }
   ],
   "source": [
    "allLinks = files.find_elements_by_css_selector('a')\n",
    "for v in allLinks:\n",
    "    print \"hi\"\n",
    "    print v.get_attribute('href')"
   ]
  },
  {
   "cell_type": "code",
   "execution_count": null,
   "metadata": {
    "collapsed": true
   },
   "outputs": [],
   "source": []
  }
 ],
 "metadata": {
  "kernelspec": {
   "display_name": "Python 2",
   "language": "python",
   "name": "python2"
  },
  "language_info": {
   "codemirror_mode": {
    "name": "ipython",
    "version": 2
   },
   "file_extension": ".py",
   "mimetype": "text/x-python",
   "name": "python",
   "nbconvert_exporter": "python",
   "pygments_lexer": "ipython2",
   "version": "2.7.6"
  }
 },
 "nbformat": 4,
 "nbformat_minor": 2
}
