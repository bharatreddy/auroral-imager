{
 "cells": [
  {
   "cell_type": "code",
   "execution_count": 2,
   "metadata": {},
   "outputs": [],
   "source": [
    "import netCDF4\n",
    "from cdf.internal import EPOCHbreakdown\n",
    "import pandas\n",
    "import os\n",
    "import numpy\n",
    "import datetime\n",
    "import matplotlib.pyplot as plt\n",
    "import aacgmv2"
   ]
  },
  {
   "cell_type": "code",
   "execution_count": 3,
   "metadata": {
    "collapsed": true
   },
   "outputs": [],
   "source": [
    "f=\"/home/bharat/Documents/code/data/timed-temp/20050806/TIMED_GUVI_L1C-2-disk-IMG_2005218175649-2005218193355_REV19832_Av13-01r001.nc\"\n",
    "currDataSet = netCDF4.Dataset(f)"
   ]
  },
  {
   "cell_type": "code",
   "execution_count": 6,
   "metadata": {},
   "outputs": [
    {
     "name": "stdout",
     "output_type": "stream",
     "text": [
      "[u'TIME_DAY', u'TIME_EPOCH_DAY', u'YEAR_DAY', u'DOY_DAY', u'ORBIT_DAY', u'LATITUDE_DAY', u'LONGITUDE_DAY', u'ALTITUDE_DAY', u'TIME_DAY_AURORAL', u'TIME_EPOCH_DAY_AURORAL', u'YEAR_DAY_AURORAL', u'DOY_DAY_AURORAL', u'ORBIT_DAY_AURORAL', u'LATITUDE_DAY_AURORAL', u'LONGITUDE_DAY_AURORAL', u'ALTITUDE_DAY_AURORAL', u'TIME_NIGHT', u'TIME_EPOCH_NIGHT', u'YEAR_NIGHT', u'DOY_NIGHT', u'ORBIT_NIGHT', u'LATITUDE_NIGHT', u'LONGITUDE_NIGHT', u'ALTITUDE_NIGHT', u'PIERCEPOINT_NIGHT_LATITUDE', u'PIERCEPOINT_NIGHT_LONGITUDE', u'PIERCEPOINT_NIGHT_ALTITUDE', u'PIERCEPOINT_NIGHT_SZA', u'PIERCEPOINT_DAY_LATITUDE', u'PIERCEPOINT_DAY_LONGITUDE', u'PIERCEPOINT_DAY_ALTITUDE', u'PIERCEPOINT_DAY_SZA', u'PIERCEPOINT_DAY_LATITUDE_AURORAL', u'PIERCEPOINT_DAY_LONGITUDE_AURORAL', u'PIERCEPOINT_DAY_ALTITUDE_AURORAL', u'PIERCEPOINT_DAY_SZA_AURORAL', u'ACROSSPIXELSIZE_DAY', u'ALONGPIXELSIZE_DAY', u'ACROSSPIXELSIZE_DAY_AURORAL', u'ALONGPIXELSIZE_DAY_AURORAL', u'ACROSSPIXELSIZE_NIGHT', u'ALONGPIXELSIZE_NIGHT', u'EFFECTIVELOOKANGLE_NIGHT', u'EFFECTIVELOOKANGLE_DAY', u'EFFECTIVELOOKANGLE_DAY_AURORAL', u'DARK_COUNT_CORRECTION', u'SCATTER_LIGHT_1216_CORRECTION', u'SCATTER_LIGHT_1304_CORRECTION', u'OVERLAP_1304_1356_CORRECTION', u'LONGWAVE_SCATTER_CORRECTION', u'RED_LEAK_CORRECTION', u'DISKCOUNTSDATA_DAY', u'DISKDECOMP_UNCERTAINTY_DAY', u'DISKCOUNTSDATA_DAY_AURORAL', u'DISKDECOMP_UNCERTAINTY_DAY_AURORAL', u'DISKCOUNTSDATA_NIGHT', u'DISKDECOMP_UNCERTAINTY_NIGHT', u'EXPOSURE_DAY', u'EXPOSURE_DAY_AURORAL', u'EXPOSURE_NIGHT', u'DISK_INTENSITY_DAY', u'DISK_INTENSITY_DAY_AURORAL', u'DISK_INTENSITY_NIGHT', u'DISK_RECTIFIED_INTENSITY_DAY', u'DISK_RECTIFIED_INTENSITY_DAY_AURORAL', u'DISK_RECTIFIED_INTENSITY_NIGHT', u'DISK_RADIANCE_UNCERTAINTY_DAY', u'DISK_RADIANCE_UNCERTAINTY_DAY_AURORAL', u'DISK_CALIBRATION_UNCERTAINTY_DAY', u'DISK_CALIBRATION_UNCERTAINTY_DAY_AURORAL', u'DISK_RADIANCE_UNCERTAINTY_NIGHT', u'DISK_CALIBRATION_UNCERTAINTY_NIGHT', u'DISK_RECTIFIED_RADIANCE_UNCERTAINTY_DAY', u'DISK_RECTIFIED_RADIANCE_UNCERTAINTY_DAY_AURORAL', u'DISK_RECTIFIED_RADIANCE_UNCERTAINTY_NIGHT', u'DQI_DAY', u'DQI_DAY_AURORAL', u'DQI_NIGHT']\n"
     ]
    }
   ],
   "source": [
    "print currDataSet.variables.keys()"
   ]
  },
  {
   "cell_type": "code",
   "execution_count": null,
   "metadata": {
    "collapsed": true
   },
   "outputs": [],
   "source": []
  }
 ],
 "metadata": {
  "kernelspec": {
   "display_name": "Python 2",
   "language": "python",
   "name": "python2"
  },
  "language_info": {
   "codemirror_mode": {
    "name": "ipython",
    "version": 2
   },
   "file_extension": ".py",
   "mimetype": "text/x-python",
   "name": "python",
   "nbconvert_exporter": "python",
   "pygments_lexer": "ipython2",
   "version": "2.7.6"
  }
 },
 "nbformat": 4,
 "nbformat_minor": 2
}
